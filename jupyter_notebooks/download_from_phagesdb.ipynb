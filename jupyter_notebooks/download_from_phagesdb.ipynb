{
 "cells": [
  {
   "cell_type": "code",
   "execution_count": 1,
   "metadata": {},
   "outputs": [],
   "source": [
    "import requests \n",
    "import json "
   ]
  },
  {
   "cell_type": "code",
   "execution_count": 5,
   "metadata": {},
   "outputs": [],
   "source": [
    "def url_to_json(url):\n",
    "    r = requests.get(url)\n",
    "    return r.json()\n",
    "\n",
    "def make_page_url(page=None, page_size=None):\n",
    "    if page is None and page_size is None:\n",
    "        return \"https://phagesdb.org/api/phages/\"\n",
    "    elif page is None:\n",
    "        return \"https://phagesdb.org/api/phages/?page_size={}\".format(page_size)\n",
    "    elif page_size is None:\n",
    "        return \"https://phagesdb.org/api/phages/?page={}\".format(page)\n",
    "    return \"https://phagesdb.org/api/phages/?page={}&page_size={}\".format(page, page_size)\n",
    "\n",
    "def download_page(page=None, page_size=None):\n",
    "    url = make_page_url(page=page, page_size=page_size)\n",
    "    return url_to_json(url)\n",
    "\n",
    "def download_phage_info(phage_name):\n",
    "    url = \"https://phagesdb.org/api/phages/{}/\".format(phage_name)\n",
    "    return url_to_json(url)  \n",
    "\n",
    "def download_sequenced_phages(page, page_size):\n",
    "    #keep page = 1 and make page_size huge so can download in one go (unless memory is an issue)\n",
    "    url = \"https://phagesdb.org/api/sequenced_phages/?page={}&page_size={}\".format(page, page_size)\n",
    "    return url_to_json(url)"
   ]
  },
  {
   "cell_type": "code",
   "execution_count": 16,
   "metadata": {},
   "outputs": [],
   "source": [
    "phages_download = download_sequenced_phages(1, 10000)"
   ]
  },
  {
   "cell_type": "code",
   "execution_count": 17,
   "metadata": {},
   "outputs": [
    {
     "name": "stdout",
     "output_type": "stream",
     "text": [
      "downloaded 3496/3496 phages\n",
      "{'phage_name': '20ES', 'old_names': '', 'program': None, 'naming_notes': '', 'finder_name': 'Franceschelli,J.J., Suarez,C.A., Teran,L., Raya,R.', 'found_city': '', 'found_state': '', 'found_country': 'Argentina', 'found_GPS_lat': '', 'found_GPS_long': '', 'found_year': 2014, 'p_institution': {'institution_code': 'UNDR', 'institution_name': 'Universidad Nacional de Rosario', 'institution_logo': 'https://phagesdb.org/media/institutions/UNR-escudo-1.jpg', 'institution_url': 'http://www.unr.edu.ar/english/'}, 'enriched_sample': None, 'discovery_notes': '', 'isolation_temperature': None, 'growth_notes': '', 'pcluster': {'cluster': 'A', 'temperate': True}, 'psubcluster': {'subcluster': 'A2'}, 'morphotype': 'SIPHO', 'plaque_notes': '', 'lysogeny_notes': '', 'seq_finished': True, 'date_finished': '2014-06-18', 'seq_facility': {'short_name': 'INDEAR', 'facility_name': 'Instituto de Agrobiotecnologia de Rosario', 'contact_person': '', 'shipping_address': '', 'facility_website': 'http://www.indear.com/'}, 'seq_method': {'short_name': '454', 'method_name': '454 Pyrosequencing'}, 'coverage': None, 'finishing_reactions': None, 'genome_length': 53124, 'gcpercent': '63.4', 'end_type': '3PRI', 'repeat_length': None, 'end_notes': '', 'overhang_length': 10, 'overhang_sequence': 'CGGTCGGTTA', 'sequencing_notes': '', 'duplicate_notes': '', 'is_annotated': False, 'is_phamerated': True, 'num_ORFs': None, 'num_tRNAs': None, 'num_tmRNAs': None, 'submitted_dnam_file': None, 'submitted_minimal_dnam_file': None, 'submitted_author_list': None, 'submitted_cover_sheet': None, 'submitted_annotation_date': None, 'qced_genbank_file': None, 'qced_genbank_file_date': None, 'isolation_host': {'genus': 'Mycobacterium', 'species': 'smegmatis', 'strain_name': 'mc²155', 'strain_species': {'id': 1, 'genus': 'Mycobacterium', 'species_name': 'smegmatis', 'species_genus': {'id': 1, 'genus_domain': 'Bacteria', 'genus_name': 'Mycobacterium', 'genus_wikipedia': 'http://en.wikipedia.org/wiki/Mycobacterium', 'is_actinomycetales': True}, 'species_wikipedia': ''}, 'ATCC_ID': '700084', 'genbank_accession': 'NC_008596.1', 'strain_information': ''}, 'verified_hosts': [], 'verified_non_hosts': [], 'host_species': {'id': 1, 'genus': 'Mycobacterium', 'species_name': 'smegmatis', 'species_genus': {'id': 1, 'genus_domain': 'Bacteria', 'genus_name': 'Mycobacterium', 'genus_wikipedia': 'http://en.wikipedia.org/wiki/Mycobacterium', 'is_actinomycetales': True}, 'species_wikipedia': ''}, 'host_genus': {'id': 1, 'genus_domain': 'Bacteria', 'genus_name': 'Mycobacterium', 'genus_wikipedia': 'http://en.wikipedia.org/wiki/Mycobacterium', 'is_actinomycetales': True}, 'in_paper': False, 'paper_published_in': None, 'in_genbank': True, 'genbank_accession': 'KJ410132', 'refseq_accession': 'NC_023597', 'plaque_file': None, 'em_file': None, 'digest_file': None, 'vdigest_file': None, 'fasta_file': 'https://phagesdb.org/media/fastas/20ES.fasta', 'plaque_thumb_file': None, 'em_thumb_file': None, 'dnam_file': None, 'date_added': '2015-10-06T15:14:00-04:00', 'date_modified': '2020-09-26T00:13:00-04:00'}\n"
     ]
    }
   ],
   "source": [
    "phages = phages_download['results']\n",
    "print(\"downloaded {}/{} phages\".format(len(phages), phages_download['count']))\n",
    "print(phages[0])"
   ]
  },
  {
   "cell_type": "code",
   "execution_count": 18,
   "metadata": {},
   "outputs": [],
   "source": [
    "import matplotlib.pyplot as plt\n",
    "import statistics\n",
    "\n",
    "def get_cohort_statistics(cohort):\n",
    "    stats = ['genome_length', 'gcpercent', 'overhang_length']\n",
    "    stat_samples = [[dicc[ss] for ss in stats] for dicc in cohort]\n",
    "    stat_samples = list(zip(*stat_samples))\n",
    "    \n",
    "    plt.figure(figsize=(30, 10))\n",
    "    for ii, ss in enumerate(stat_samples):\n",
    "        ss_rem0 = [s for s in ss if s is not None]\n",
    "        ss_mean = statistics.mean(ss_rem0)\n",
    "        ss_stdev = statistics.stdev(ss_rem0)\n",
    "        print(\"{} - Mean: {}, STD: {}\".format(stats[ii], , ))\n",
    "\n",
    "        plt.subplot(1, 3, ii+1) \n",
    "        plt.title(stats[ii]+\" frequency\")\n",
    "        plt.xlabel(stats[ii]+\" bins\")\n",
    "        plt.ylabel(\"occurances\")\n",
    "\n",
    "        if stats[ii] == 'overhang_length':\n",
    "            plt.hist(ss_rem0, bins = 20, range=(min(ss_rem0), 25))\n",
    "        else:\n",
    "            plt.hist(ss_rem0, bins = 20)\n"
   ]
  },
  {
   "cell_type": "code",
   "execution_count": 19,
   "metadata": {},
   "outputs": [
    {
     "name": "stdout",
     "output_type": "stream",
     "text": [
      "genome_length - Mean: 61603.31493135011, STD: 27629.708675987884\n"
     ]
    },
    {
     "ename": "TypeError",
     "evalue": "can't convert type 'str' to numerator/denominator",
     "output_type": "error",
     "traceback": [
      "\u001b[0;31m---------------------------------------------------------------------------\u001b[0m",
      "\u001b[0;31mTypeError\u001b[0m                                 Traceback (most recent call last)",
      "\u001b[0;32m<ipython-input-19-1101c79d83a4>\u001b[0m in \u001b[0;36m<module>\u001b[0;34m\u001b[0m\n\u001b[0;32m----> 1\u001b[0;31m \u001b[0mget_cohort_statistics\u001b[0m\u001b[0;34m(\u001b[0m\u001b[0mphages\u001b[0m\u001b[0;34m)\u001b[0m\u001b[0;34m\u001b[0m\u001b[0;34m\u001b[0m\u001b[0m\n\u001b[0m",
      "\u001b[0;32m<ipython-input-18-c6ec2f16b23c>\u001b[0m in \u001b[0;36mget_cohort_statistics\u001b[0;34m(cohort)\u001b[0m\n\u001b[1;32m     10\u001b[0m     \u001b[0;32mfor\u001b[0m \u001b[0mii\u001b[0m\u001b[0;34m,\u001b[0m \u001b[0mss\u001b[0m \u001b[0;32min\u001b[0m \u001b[0menumerate\u001b[0m\u001b[0;34m(\u001b[0m\u001b[0mstat_samples\u001b[0m\u001b[0;34m)\u001b[0m\u001b[0;34m:\u001b[0m\u001b[0;34m\u001b[0m\u001b[0;34m\u001b[0m\u001b[0m\n\u001b[1;32m     11\u001b[0m         \u001b[0mss_rem0\u001b[0m \u001b[0;34m=\u001b[0m \u001b[0;34m[\u001b[0m\u001b[0ms\u001b[0m \u001b[0;32mfor\u001b[0m \u001b[0ms\u001b[0m \u001b[0;32min\u001b[0m \u001b[0mss\u001b[0m \u001b[0;32mif\u001b[0m \u001b[0ms\u001b[0m \u001b[0;32mis\u001b[0m \u001b[0;32mnot\u001b[0m \u001b[0;32mNone\u001b[0m\u001b[0;34m]\u001b[0m\u001b[0;34m\u001b[0m\u001b[0;34m\u001b[0m\u001b[0m\n\u001b[0;32m---> 12\u001b[0;31m         \u001b[0mprint\u001b[0m\u001b[0;34m(\u001b[0m\u001b[0;34m\"{} - Mean: {}, STD: {}\"\u001b[0m\u001b[0;34m.\u001b[0m\u001b[0mformat\u001b[0m\u001b[0;34m(\u001b[0m\u001b[0mstats\u001b[0m\u001b[0;34m[\u001b[0m\u001b[0mii\u001b[0m\u001b[0;34m]\u001b[0m\u001b[0;34m,\u001b[0m \u001b[0mstatistics\u001b[0m\u001b[0;34m.\u001b[0m\u001b[0mmean\u001b[0m\u001b[0;34m(\u001b[0m\u001b[0mss_rem0\u001b[0m\u001b[0;34m)\u001b[0m\u001b[0;34m,\u001b[0m \u001b[0mstatistics\u001b[0m\u001b[0;34m.\u001b[0m\u001b[0mstdev\u001b[0m\u001b[0;34m(\u001b[0m\u001b[0mss_rem0\u001b[0m\u001b[0;34m)\u001b[0m\u001b[0;34m)\u001b[0m\u001b[0;34m)\u001b[0m\u001b[0;34m\u001b[0m\u001b[0;34m\u001b[0m\u001b[0m\n\u001b[0m\u001b[1;32m     13\u001b[0m \u001b[0;34m\u001b[0m\u001b[0m\n\u001b[1;32m     14\u001b[0m         \u001b[0mplt\u001b[0m\u001b[0;34m.\u001b[0m\u001b[0msubplot\u001b[0m\u001b[0;34m(\u001b[0m\u001b[0;36m1\u001b[0m\u001b[0;34m,\u001b[0m \u001b[0;36m3\u001b[0m\u001b[0;34m,\u001b[0m \u001b[0mii\u001b[0m\u001b[0;34m+\u001b[0m\u001b[0;36m1\u001b[0m\u001b[0;34m)\u001b[0m\u001b[0;34m\u001b[0m\u001b[0;34m\u001b[0m\u001b[0m\n",
      "\u001b[0;32m~/opt/anaconda3/lib/python3.7/statistics.py\u001b[0m in \u001b[0;36mmean\u001b[0;34m(data)\u001b[0m\n\u001b[1;32m    309\u001b[0m     \u001b[0;32mif\u001b[0m \u001b[0mn\u001b[0m \u001b[0;34m<\u001b[0m \u001b[0;36m1\u001b[0m\u001b[0;34m:\u001b[0m\u001b[0;34m\u001b[0m\u001b[0;34m\u001b[0m\u001b[0m\n\u001b[1;32m    310\u001b[0m         \u001b[0;32mraise\u001b[0m \u001b[0mStatisticsError\u001b[0m\u001b[0;34m(\u001b[0m\u001b[0;34m'mean requires at least one data point'\u001b[0m\u001b[0;34m)\u001b[0m\u001b[0;34m\u001b[0m\u001b[0;34m\u001b[0m\u001b[0m\n\u001b[0;32m--> 311\u001b[0;31m     \u001b[0mT\u001b[0m\u001b[0;34m,\u001b[0m \u001b[0mtotal\u001b[0m\u001b[0;34m,\u001b[0m \u001b[0mcount\u001b[0m \u001b[0;34m=\u001b[0m \u001b[0m_sum\u001b[0m\u001b[0;34m(\u001b[0m\u001b[0mdata\u001b[0m\u001b[0;34m)\u001b[0m\u001b[0;34m\u001b[0m\u001b[0;34m\u001b[0m\u001b[0m\n\u001b[0m\u001b[1;32m    312\u001b[0m     \u001b[0;32massert\u001b[0m \u001b[0mcount\u001b[0m \u001b[0;34m==\u001b[0m \u001b[0mn\u001b[0m\u001b[0;34m\u001b[0m\u001b[0;34m\u001b[0m\u001b[0m\n\u001b[1;32m    313\u001b[0m     \u001b[0;32mreturn\u001b[0m \u001b[0m_convert\u001b[0m\u001b[0;34m(\u001b[0m\u001b[0mtotal\u001b[0m\u001b[0;34m/\u001b[0m\u001b[0mn\u001b[0m\u001b[0;34m,\u001b[0m \u001b[0mT\u001b[0m\u001b[0;34m)\u001b[0m\u001b[0;34m\u001b[0m\u001b[0;34m\u001b[0m\u001b[0m\n",
      "\u001b[0;32m~/opt/anaconda3/lib/python3.7/statistics.py\u001b[0m in \u001b[0;36m_sum\u001b[0;34m(data, start)\u001b[0m\n\u001b[1;32m    145\u001b[0m     \u001b[0;32mfor\u001b[0m \u001b[0mtyp\u001b[0m\u001b[0;34m,\u001b[0m \u001b[0mvalues\u001b[0m \u001b[0;32min\u001b[0m \u001b[0mgroupby\u001b[0m\u001b[0;34m(\u001b[0m\u001b[0mdata\u001b[0m\u001b[0;34m,\u001b[0m \u001b[0mtype\u001b[0m\u001b[0;34m)\u001b[0m\u001b[0;34m:\u001b[0m\u001b[0;34m\u001b[0m\u001b[0;34m\u001b[0m\u001b[0m\n\u001b[1;32m    146\u001b[0m         \u001b[0mT\u001b[0m \u001b[0;34m=\u001b[0m \u001b[0m_coerce\u001b[0m\u001b[0;34m(\u001b[0m\u001b[0mT\u001b[0m\u001b[0;34m,\u001b[0m \u001b[0mtyp\u001b[0m\u001b[0;34m)\u001b[0m  \u001b[0;31m# or raise TypeError\u001b[0m\u001b[0;34m\u001b[0m\u001b[0;34m\u001b[0m\u001b[0m\n\u001b[0;32m--> 147\u001b[0;31m         \u001b[0;32mfor\u001b[0m \u001b[0mn\u001b[0m\u001b[0;34m,\u001b[0m\u001b[0md\u001b[0m \u001b[0;32min\u001b[0m \u001b[0mmap\u001b[0m\u001b[0;34m(\u001b[0m\u001b[0m_exact_ratio\u001b[0m\u001b[0;34m,\u001b[0m \u001b[0mvalues\u001b[0m\u001b[0;34m)\u001b[0m\u001b[0;34m:\u001b[0m\u001b[0;34m\u001b[0m\u001b[0;34m\u001b[0m\u001b[0m\n\u001b[0m\u001b[1;32m    148\u001b[0m             \u001b[0mcount\u001b[0m \u001b[0;34m+=\u001b[0m \u001b[0;36m1\u001b[0m\u001b[0;34m\u001b[0m\u001b[0;34m\u001b[0m\u001b[0m\n\u001b[1;32m    149\u001b[0m             \u001b[0mpartials\u001b[0m\u001b[0;34m[\u001b[0m\u001b[0md\u001b[0m\u001b[0;34m]\u001b[0m \u001b[0;34m=\u001b[0m \u001b[0mpartials_get\u001b[0m\u001b[0;34m(\u001b[0m\u001b[0md\u001b[0m\u001b[0;34m,\u001b[0m \u001b[0;36m0\u001b[0m\u001b[0;34m)\u001b[0m \u001b[0;34m+\u001b[0m \u001b[0mn\u001b[0m\u001b[0;34m\u001b[0m\u001b[0;34m\u001b[0m\u001b[0m\n",
      "\u001b[0;32m~/opt/anaconda3/lib/python3.7/statistics.py\u001b[0m in \u001b[0;36m_exact_ratio\u001b[0;34m(x)\u001b[0m\n\u001b[1;32m    227\u001b[0m         \u001b[0;32mreturn\u001b[0m \u001b[0;34m(\u001b[0m\u001b[0mx\u001b[0m\u001b[0;34m,\u001b[0m \u001b[0;32mNone\u001b[0m\u001b[0;34m)\u001b[0m\u001b[0;34m\u001b[0m\u001b[0;34m\u001b[0m\u001b[0m\n\u001b[1;32m    228\u001b[0m     \u001b[0mmsg\u001b[0m \u001b[0;34m=\u001b[0m \u001b[0;34m\"can't convert type '{}' to numerator/denominator\"\u001b[0m\u001b[0;34m\u001b[0m\u001b[0;34m\u001b[0m\u001b[0m\n\u001b[0;32m--> 229\u001b[0;31m     \u001b[0;32mraise\u001b[0m \u001b[0mTypeError\u001b[0m\u001b[0;34m(\u001b[0m\u001b[0mmsg\u001b[0m\u001b[0;34m.\u001b[0m\u001b[0mformat\u001b[0m\u001b[0;34m(\u001b[0m\u001b[0mtype\u001b[0m\u001b[0;34m(\u001b[0m\u001b[0mx\u001b[0m\u001b[0;34m)\u001b[0m\u001b[0;34m.\u001b[0m\u001b[0m__name__\u001b[0m\u001b[0;34m)\u001b[0m\u001b[0;34m)\u001b[0m\u001b[0;34m\u001b[0m\u001b[0;34m\u001b[0m\u001b[0m\n\u001b[0m\u001b[1;32m    230\u001b[0m \u001b[0;34m\u001b[0m\u001b[0m\n\u001b[1;32m    231\u001b[0m \u001b[0;34m\u001b[0m\u001b[0m\n",
      "\u001b[0;31mTypeError\u001b[0m: can't convert type 'str' to numerator/denominator"
     ]
    },
    {
     "data": {
      "image/png": "[encoded data removed]",
      "text/plain": [
       "<Figure size 2160x720 with 1 Axes>"
      ]
     },
     "metadata": {
      "needs_background": "light"
     },
     "output_type": "display_data"
    }
   ],
   "source": [
    "get_cohort_statistics(phages)"
   ]
  },
  {
   "cell_type": "code",
   "execution_count": 21,
   "metadata": {},
   "outputs": [
    {
     "data": {
      "text/plain": [
       "1.2909944487358056"
      ]
     },
     "execution_count": 21,
     "metadata": {},
     "output_type": "execute_result"
    }
   ],
   "source": [
    "statistics.mean([1,2,3,4])\n",
    "statistics.stdev([1,2,3,4])"
   ]
  },
  {
   "cell_type": "code",
   "execution_count": null,
   "metadata": {},
   "outputs": [],
   "source": []
  },
  {
   "cell_type": "code",
   "execution_count": null,
   "metadata": {},
   "outputs": [],
   "source": []
  }
 ],
 "metadata": {
  "kernelspec": {
   "display_name": "Python 3",
   "language": "python",
   "name": "python3"
  },
  "language_info": {
   "codemirror_mode": {
    "name": "ipython",
    "version": 3
   },
   "file_extension": ".py",
   "mimetype": "text/x-python",
   "name": "python",
   "nbconvert_exporter": "python",
   "pygments_lexer": "ipython3",
   "version": "3.7.6"
  }
 },
 "nbformat": 4,
 "nbformat_minor": 4
}
