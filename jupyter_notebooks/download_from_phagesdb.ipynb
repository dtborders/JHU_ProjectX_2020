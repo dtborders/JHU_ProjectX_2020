{
 "cells": [
  {
   "cell_type": "markdown",
   "metadata": {},
   "source": [
    "# Phagesdb Download Code\n",
    "### Code using phagesdb web api to download json descriptions"
   ]
  },
  {
   "cell_type": "code",
   "execution_count": 7,
   "metadata": {},
   "outputs": [],
   "source": [
    "import requests \n",
    "import json "
   ]
  },
  {
   "cell_type": "code",
   "execution_count": 2,
   "metadata": {},
   "outputs": [],
   "source": [
    "def url_to_json(url):\n",
    "    r = requests.get(url)\n",
    "    return r.json()\n",
    "\n",
    "def make_page_url(page=None, page_size=None):\n",
    "    if page is None and page_size is None:\n",
    "        return \"https://phagesdb.org/api/phages/\"\n",
    "    elif page is None:\n",
    "        return \"https://phagesdb.org/api/phages/?page_size={}\".format(page_size)\n",
    "    elif page_size is None:\n",
    "        return \"https://phagesdb.org/api/phages/?page={}\".format(page)\n",
    "    return \"https://phagesdb.org/api/phages/?page={}&page_size={}\".format(page, page_size)\n",
    "\n",
    "def download_page(page=None, page_size=None):\n",
    "    url = make_page_url(page=page, page_size=page_size)\n",
    "    return url_to_json(url)\n",
    "\n",
    "def download_phage_info(phage_name):\n",
    "    url = \"https://phagesdb.org/api/phages/{}/\".format(phage_name)\n",
    "    return url_to_json(url)  \n",
    "\n",
    "def download_sequenced_phages(page, page_size):\n",
    "    #keep page = 1 and make page_size huge so can download in one go (unless memory is an issue)\n",
    "    url = \"https://phagesdb.org/api/sequenced_phages/?page={}&page_size={}\".format(page, page_size)\n",
    "    return url_to_json(url)"
   ]
  },
  {
   "cell_type": "code",
   "execution_count": 3,
   "metadata": {},
   "outputs": [],
   "source": [
    "phages_download = download_sequenced_phages(1, 10000)"
   ]
  },
  {
   "cell_type": "code",
   "execution_count": 4,
   "metadata": {},
   "outputs": [
    {
     "name": "stdout",
     "output_type": "stream",
     "text": [
      "downloaded 3499/3499 phages\n",
      "{'phage_name': '20ES', 'old_names': '', 'program': None, 'naming_notes': '', 'finder_name': 'Franceschelli,J.J., Suarez,C.A., Teran,L., Raya,R.', 'found_city': '', 'found_state': '', 'found_country': 'Argentina', 'found_GPS_lat': '', 'found_GPS_long': '', 'found_year': 2014, 'p_institution': {'institution_code': 'UNDR', 'institution_name': 'Universidad Nacional de Rosario', 'institution_logo': 'https://phagesdb.org/media/institutions/UNR-escudo-1.jpg', 'institution_url': 'http://www.unr.edu.ar/english/'}, 'enriched_sample': None, 'discovery_notes': '', 'isolation_temperature': None, 'growth_notes': '', 'pcluster': {'cluster': 'A', 'temperate': True}, 'psubcluster': {'subcluster': 'A2'}, 'morphotype': 'SIPHO', 'plaque_notes': '', 'lysogeny_notes': '', 'seq_finished': True, 'date_finished': '2014-06-18', 'seq_facility': {'short_name': 'INDEAR', 'facility_name': 'Instituto de Agrobiotecnologia de Rosario', 'contact_person': '', 'shipping_address': '', 'facility_website': 'http://www.indear.com/'}, 'seq_method': {'short_name': '454', 'method_name': '454 Pyrosequencing'}, 'coverage': None, 'finishing_reactions': None, 'genome_length': 53124, 'gcpercent': '63.4', 'end_type': '3PRI', 'repeat_length': None, 'end_notes': '', 'overhang_length': 10, 'overhang_sequence': 'CGGTCGGTTA', 'sequencing_notes': '', 'duplicate_notes': '', 'is_annotated': False, 'is_phamerated': True, 'num_ORFs': None, 'num_tRNAs': None, 'num_tmRNAs': None, 'submitted_dnam_file': None, 'submitted_minimal_dnam_file': None, 'submitted_author_list': None, 'submitted_cover_sheet': None, 'submitted_annotation_date': None, 'qced_genbank_file': None, 'qced_genbank_file_date': None, 'isolation_host': {'genus': 'Mycobacterium', 'species': 'smegmatis', 'strain_name': 'mc²155', 'strain_species': {'id': 1, 'genus': 'Mycobacterium', 'species_name': 'smegmatis', 'species_genus': {'id': 1, 'genus_domain': 'Bacteria', 'genus_name': 'Mycobacterium', 'genus_wikipedia': 'http://en.wikipedia.org/wiki/Mycobacterium', 'is_actinomycetales': True}, 'species_wikipedia': ''}, 'ATCC_ID': '700084', 'genbank_accession': 'NC_008596.1', 'strain_information': ''}, 'verified_hosts': [], 'verified_non_hosts': [], 'host_species': {'id': 1, 'genus': 'Mycobacterium', 'species_name': 'smegmatis', 'species_genus': {'id': 1, 'genus_domain': 'Bacteria', 'genus_name': 'Mycobacterium', 'genus_wikipedia': 'http://en.wikipedia.org/wiki/Mycobacterium', 'is_actinomycetales': True}, 'species_wikipedia': ''}, 'host_genus': {'id': 1, 'genus_domain': 'Bacteria', 'genus_name': 'Mycobacterium', 'genus_wikipedia': 'http://en.wikipedia.org/wiki/Mycobacterium', 'is_actinomycetales': True}, 'in_paper': False, 'paper_published_in': None, 'in_genbank': True, 'genbank_accession': 'KJ410132', 'refseq_accession': 'NC_023597', 'plaque_file': None, 'em_file': None, 'digest_file': None, 'vdigest_file': None, 'fasta_file': 'https://phagesdb.org/media/fastas/20ES.fasta', 'plaque_thumb_file': None, 'em_thumb_file': None, 'dnam_file': None, 'date_added': '2015-10-06T15:14:00-04:00', 'date_modified': '2020-09-26T00:13:00-04:00'}\n"
     ]
    }
   ],
   "source": [
    "phages = phages_download['results']\n",
    "print(\"downloaded {}/{} phages\".format(len(phages), phages_download['count']))\n",
    "print(phages[0])"
   ]
  },
  {
   "cell_type": "markdown",
   "metadata": {},
   "source": [
    "# Examine some of the generals statistics from the data"
   ]
  },
  {
   "cell_type": "code",
   "execution_count": 5,
   "metadata": {},
   "outputs": [],
   "source": [
    "import matplotlib.pyplot as plt\n",
    "import statistics\n",
    "\n",
    "def get_cohort_statistics(cohort):\n",
    "    stats = ['genome_length', 'gcpercent', 'overhang_length']\n",
    "    stat_samples = [[dicc[ss] for ss in stats] for dicc in cohort]\n",
    "    stat_samples = list(zip(*stat_samples))\n",
    "    \n",
    "    plt.figure(figsize=(30, 10))\n",
    "    for ii, ss in enumerate(stat_samples):\n",
    "        ss_rem0 = [float(s) for s in ss if s is not None]\n",
    "        ss_mean = statistics.mean(ss_rem0)\n",
    "        ss_stdev = statistics.stdev(ss_rem0)\n",
    "        print(\"{} - Mean: {}, STD: {}, Max: {}, Min:{}\".format(stats[ii], ss_mean, ss_stdev, max(ss_rem0), min(ss_rem0)))\n",
    "\n",
    "        plt.subplot(1, 3, ii+1) \n",
    "        plt.title(stats[ii]+\" frequency\")\n",
    "        plt.xlabel(stats[ii]+\" bins\")\n",
    "        plt.ylabel(\"occurances\")\n",
    "\n",
    "        if stats[ii] == 'overhang_length':\n",
    "            plt.hist(ss_rem0, bins = 20, range=(min(ss_rem0), 25))\n",
    "        else:\n",
    "            plt.hist(ss_rem0, bins = 20)\n"
   ]
  },
  {
   "cell_type": "code",
   "execution_count": 6,
   "metadata": {},
   "outputs": [
    {
     "name": "stdout",
     "output_type": "stream",
     "text": [
      "genome_length - Mean: 61616.20320091455, STD: 27642.254625720645, Max: 191968.0, Min:14270.0\n",
      "gcpercent - Mean: 63.328436696198914, STD: 4.553294114415972, Max: 72.7, Min:41.2\n",
      "overhang_length - Mean: 47.10809628008753, STD: 1450.0569286940722, Max: 68341.0, Min:4.0\n"
     ]
    },
    {
     "data": {
      "image/png": "[encoded data removed]",
      "text/plain": [
       "<Figure size 2160x720 with 3 Axes>"
      ]
     },
     "metadata": {
      "needs_background": "light"
     },
     "output_type": "display_data"
    }
   ],
   "source": [
    "get_cohort_statistics(phages)"
   ]
  },
  {
   "cell_type": "markdown",
   "metadata": {},
   "source": [
    "# Code to download some of the fasta files"
   ]
  },
  {
   "cell_type": "code",
   "execution_count": 13,
   "metadata": {},
   "outputs": [
    {
     "name": "stdout",
     "output_type": "stream",
     "text": [
      "\u001b[34mdata\u001b[m\u001b[m                         download_from_phagesdb.ipynb\r\n"
     ]
    }
   ],
   "source": [
    "import urllib.request\n",
    "!ls"
   ]
  },
  {
   "cell_type": "code",
   "execution_count": 12,
   "metadata": {},
   "outputs": [],
   "source": [
    "!mkdir data"
   ]
  },
  {
   "cell_type": "code",
   "execution_count": 17,
   "metadata": {},
   "outputs": [],
   "source": [
    "def download_url(url):\n",
    "    urllib.request.urlretrieve(url, \"data/{}\".format(url.split(\"/\")[-1]))"
   ]
  },
  {
   "cell_type": "code",
   "execution_count": 22,
   "metadata": {},
   "outputs": [
    {
     "name": "stdout",
     "output_type": "stream",
     "text": [
      "0/3499\n",
      "100/3499\n",
      "200/3499\n",
      "300/3499\n",
      "400/3499\n",
      "500/3499\n",
      "600/3499\n",
      "700/3499\n",
      "800/3499\n",
      "900/3499\n",
      "1000/3499\n",
      "1100/3499\n",
      "1200/3499\n",
      "1300/3499\n",
      "1400/3499\n",
      "1500/3499\n",
      "1600/3499\n",
      "1700/3499\n",
      "1800/3499\n",
      "1900/3499\n",
      "2000/3499\n",
      "2100/3499\n",
      "2200/3499\n",
      "2300/3499\n",
      "2400/3499\n",
      "2500/3499\n",
      "2600/3499\n",
      "2700/3499\n",
      "2800/3499\n",
      "2900/3499\n",
      "3000/3499\n",
      "3100/3499\n",
      "3200/3499\n",
      "3300/3499\n",
      "3400/3499\n"
     ]
    }
   ],
   "source": [
    "for ii, pg in enumerate(phages):\n",
    "    if ii % 100 == 0:\n",
    "        print(\"{}/{}\".format(ii, len(phages)))\n",
    "        \n",
    "    if int(pg['genome_length']) < 100000:\n",
    "        try:\n",
    "            download_url(pg['fasta_file'])\n",
    "        except:\n",
    "            print(\"\\tException on {}\".format(pg['fasta_file']))"
   ]
  },
  {
   "cell_type": "markdown",
   "metadata": {},
   "source": [
    "The data ended up being around 200 megabytes total, for most of phagesdb"
   ]
  },
  {
   "cell_type": "code",
   "execution_count": null,
   "metadata": {},
   "outputs": [],
   "source": []
  }
 ],
 "metadata": {
  "kernelspec": {
   "display_name": "Python 3",
   "language": "python",
   "name": "python3"
  },
  "language_info": {
   "codemirror_mode": {
    "name": "ipython",
    "version": 3
   },
   "file_extension": ".py",
   "mimetype": "text/x-python",
   "name": "python",
   "nbconvert_exporter": "python",
   "pygments_lexer": "ipython3",
   "version": "3.7.6"
  }
 },
 "nbformat": 4,
 "nbformat_minor": 4
}
