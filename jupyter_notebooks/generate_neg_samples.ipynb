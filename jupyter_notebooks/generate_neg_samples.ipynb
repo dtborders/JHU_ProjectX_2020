{
 "cells": [
  {
   "cell_type": "code",
   "execution_count": null,
   "metadata": {
    "colab": {
     "base_uri": "https://localhost:8080/",
     "height": 139
    },
    "id": "HF1ibyU5ZF6-",
    "outputId": "504e10f2-1efb-4bb5-8e3a-d84aae397b7f"
   },
   "outputs": [
    {
     "name": "stdout",
     "output_type": "stream",
     "text": [
      "Collecting BioPython\n",
      "\u001b[?25l  Downloading https://files.pythonhosted.org/packages/76/02/8b606c4aa92ff61b5eda71d23b499ab1de57d5e818be33f77b01a6f435a8/biopython-1.78-cp36-cp36m-manylinux1_x86_64.whl (2.3MB)\n",
      "\u001b[K     |████████████████████████████████| 2.3MB 4.3MB/s \n",
      "\u001b[?25hRequirement already satisfied: numpy in /usr/local/lib/python3.6/dist-packages (from BioPython) (1.18.5)\n",
      "Installing collected packages: BioPython\n",
      "Successfully installed BioPython-1.78\n"
     ]
    }
   ],
   "source": [
    "! pip install BioPython"
   ]
  },
  {
   "cell_type": "code",
   "execution_count": null,
   "metadata": {
    "colab": {
     "base_uri": "https://localhost:8080/",
     "height": 34
    },
    "id": "tm7wadR2ZRRb",
    "outputId": "295af10c-248e-4407-acb3-5c51bd81042d"
   },
   "outputs": [
    {
     "name": "stdout",
     "output_type": "stream",
     "text": [
      "Mounted at /content/drive\n"
     ]
    }
   ],
   "source": [
    "from google.colab import drive\n",
    "drive.mount('/content/drive')"
   ]
  },
  {
   "cell_type": "code",
   "execution_count": null,
   "metadata": {
    "colab": {
     "base_uri": "https://localhost:8080/",
     "height": 187
    },
    "id": "A2_tm5-EZL5k",
    "outputId": "bb4c857e-3ae4-4253-b3ec-1e72052799fe"
   },
   "outputs": [
    {
     "name": "stdout",
     "output_type": "stream",
     "text": [
      "Phage data will be saved at data/phages/...\n",
      "\tSucessfully downloaded info on 3499 phages\n",
      "Downloading Phage Fasta Files...\n",
      "\t\t500/3499\n",
      "\t\t1000/3499\n",
      "\t\t1500/3499\n",
      "\t\t2000/3499\n",
      "\t\t2500/3499\n",
      "\t\t3000/3499\n",
      "\tSucesfully downloaded 3499 fasta files\n"
     ]
    }
   ],
   "source": [
    "! python download_data.py"
   ]
  },
  {
   "cell_type": "code",
   "execution_count": null,
   "metadata": {
    "colab": {
     "base_uri": "https://localhost:8080/",
     "height": 68
    },
    "id": "pskHm78Eeack",
    "outputId": "94230bb1-d13e-4a49-9086-0f76c4ac1e3a"
   },
   "outputs": [
    {
     "name": "stdout",
     "output_type": "stream",
     "text": [
      "num unique phages =  5524\n",
      "num unique hosts  =  405\n",
      "Bacteria; Actinobacteria; Corynebacteriales; Mycobacteriaceae; Mycolicibacterium\n"
     ]
    }
   ],
   "source": [
    "from Bio import SeqIO, Entrez\n",
    "import pandas as pd\n",
    "\n",
    "comb_dsets = pd.read_csv(\"./combined.csv\")\n",
    "print(\"num unique phages = \", len(list(set(comb_dsets['phage']))))\n",
    "print(\"num unique hosts  = \", len(list(set(comb_dsets['host']))))\n",
    "\n",
    "Entrez.email = \"dtborders@gmail.com\""
   ]
  },
  {
   "cell_type": "code",
   "execution_count": 67,
   "metadata": {
    "id": "6SCh5pQehJbX"
   },
   "outputs": [],
   "source": [
    "# Add species to dataset \n",
    "comb_dsets['species'] = ''\n",
    "\n",
    "drop_list = []\n",
    "# Might have to run this in chunks \n",
    "for i in range(len(comb_dsets)):\n",
    "  handle = Entrez.efetch(db=\"nuccore\", id=comb_dsets.iloc[i]['host'], rettyep='gb', retmode=\"xml\")\n",
    "  res = Entrez.read(handle)\n",
    "  handle.close() \n",
    "  if (len(res[0]['GBSeq_taxonomy'].split()) > 4):\n",
    "    comb_dsets.at[comb_dsets.index[i], 'species'] = res[0]['GBSeq_taxonomy'].split()[4]\n",
    "  else:\n",
    "    drop_list.append(i)\n",
    "\n",
    "file_name = './data_with_species.csv'\n",
    "comb_dsets.to_csv(file_name, sep=',')"
   ]
  },
  {
   "cell_type": "code",
   "execution_count": 104,
   "metadata": {
    "id": "FLsUrTCRwa7A"
   },
   "outputs": [],
   "source": [
    "# If you already have file \n",
    "comb_dsets = pd.read_csv(\"./data_with_species.csv\")"
   ]
  },
  {
   "cell_type": "code",
   "execution_count": 105,
   "metadata": {
    "colab": {
     "base_uri": "https://localhost:8080/",
     "height": 419
    },
    "id": "o1Jy8JPVxO0S",
    "outputId": "15bd3841-3188-492c-95b1-861e42f890b0"
   },
   "outputs": [
    {
     "data": {
      "text/html": [
       "<div>\n",
       "<style scoped>\n",
       "    .dataframe tbody tr th:only-of-type {\n",
       "        vertical-align: middle;\n",
       "    }\n",
       "\n",
       "    .dataframe tbody tr th {\n",
       "        vertical-align: top;\n",
       "    }\n",
       "\n",
       "    .dataframe thead th {\n",
       "        text-align: right;\n",
       "    }\n",
       "</style>\n",
       "<table border=\"1\" class=\"dataframe\">\n",
       "  <thead>\n",
       "    <tr style=\"text-align: right;\">\n",
       "      <th></th>\n",
       "      <th>phage</th>\n",
       "      <th>host</th>\n",
       "      <th>species</th>\n",
       "    </tr>\n",
       "  </thead>\n",
       "  <tbody>\n",
       "    <tr>\n",
       "      <th>0</th>\n",
       "      <td>NC_026583</td>\n",
       "      <td>NZ_LN831039.1</td>\n",
       "      <td>Mycolicibacterium</td>\n",
       "    </tr>\n",
       "    <tr>\n",
       "      <th>1</th>\n",
       "      <td>NC_026584</td>\n",
       "      <td>NZ_LN831039.1</td>\n",
       "      <td>Mycolicibacterium</td>\n",
       "    </tr>\n",
       "    <tr>\n",
       "      <th>2</th>\n",
       "      <td>NC_026585</td>\n",
       "      <td>NZ_LN831039.1</td>\n",
       "      <td>Mycolicibacterium</td>\n",
       "    </tr>\n",
       "    <tr>\n",
       "      <th>3</th>\n",
       "      <td>NC_026588</td>\n",
       "      <td>NZ_LN831039.1</td>\n",
       "      <td>Mycolicibacterium</td>\n",
       "    </tr>\n",
       "    <tr>\n",
       "      <th>4</th>\n",
       "      <td>NC_026589</td>\n",
       "      <td>NZ_LN831039.1</td>\n",
       "      <td>Mycolicibacterium</td>\n",
       "    </tr>\n",
       "    <tr>\n",
       "      <th>...</th>\n",
       "      <td>...</td>\n",
       "      <td>...</td>\n",
       "      <td>...</td>\n",
       "    </tr>\n",
       "    <tr>\n",
       "      <th>5620</th>\n",
       "      <td>NC_025451</td>\n",
       "      <td>NZ_CWGL01000001.1</td>\n",
       "      <td>Yersiniaceae;</td>\n",
       "    </tr>\n",
       "    <tr>\n",
       "      <th>5621</th>\n",
       "      <td>JQ957925</td>\n",
       "      <td>NC_017168.1</td>\n",
       "      <td>Yersiniaceae;</td>\n",
       "    </tr>\n",
       "    <tr>\n",
       "      <th>5622</th>\n",
       "      <td>JQ965702</td>\n",
       "      <td>NC_017168.1</td>\n",
       "      <td>Yersiniaceae;</td>\n",
       "    </tr>\n",
       "    <tr>\n",
       "      <th>5623</th>\n",
       "      <td>JQ965701</td>\n",
       "      <td>NC_017168.1</td>\n",
       "      <td>Yersiniaceae;</td>\n",
       "    </tr>\n",
       "    <tr>\n",
       "      <th>5624</th>\n",
       "      <td>NC_047939</td>\n",
       "      <td>NC_017168.1</td>\n",
       "      <td>Yersiniaceae;</td>\n",
       "    </tr>\n",
       "  </tbody>\n",
       "</table>\n",
       "<p>5601 rows × 3 columns</p>\n",
       "</div>"
      ],
      "text/plain": [
       "          phage               host            species\n",
       "0     NC_026583      NZ_LN831039.1  Mycolicibacterium\n",
       "1     NC_026584      NZ_LN831039.1  Mycolicibacterium\n",
       "2     NC_026585      NZ_LN831039.1  Mycolicibacterium\n",
       "3     NC_026588      NZ_LN831039.1  Mycolicibacterium\n",
       "4     NC_026589      NZ_LN831039.1  Mycolicibacterium\n",
       "...         ...                ...                ...\n",
       "5620  NC_025451  NZ_CWGL01000001.1      Yersiniaceae;\n",
       "5621   JQ957925        NC_017168.1      Yersiniaceae;\n",
       "5622   JQ965702        NC_017168.1      Yersiniaceae;\n",
       "5623   JQ965701        NC_017168.1      Yersiniaceae;\n",
       "5624  NC_047939        NC_017168.1      Yersiniaceae;\n",
       "\n",
       "[5601 rows x 3 columns]"
      ]
     },
     "execution_count": 105,
     "metadata": {
      "tags": []
     },
     "output_type": "execute_result"
    }
   ],
   "source": [
    "comb_dsets"
   ]
  },
  {
   "cell_type": "code",
   "execution_count": 68,
   "metadata": {
    "colab": {
     "base_uri": "https://localhost:8080/",
     "height": 493
    },
    "id": "ofKs93uHgu9l",
    "outputId": "faf59ad9-6b0e-4f5c-94a2-14668dec82c8"
   },
   "outputs": [
    {
     "data": {
      "text/plain": [
       "array(['Mycolicibacterium', 'Streptococcaceae;', 'Leuconostocaceae;',\n",
       "       'Rhodococcus', 'Microbacterium', 'Streptomyces',\n",
       "       'Rhodobacteraceae;', 'Propionibacterium', 'Arthrobacter',\n",
       "       'Gordonia', 'Mycobacterium;', 'Lactobacillaceae;',\n",
       "       'Enterobacteriaceae;', 'Helicobacteraceae;', 'Staphylococcaceae;',\n",
       "       'Microcoleaceae;', 'Vibrionaceae;', 'Campylobacteraceae;',\n",
       "       'Morganellaceae;', 'Caulobacteraceae;', 'Peptostreptococcaceae;',\n",
       "       'Bacillaceae;', 'Burkholderiaceae;', 'Paenibacillaceae;',\n",
       "       'Yersiniaceae;', 'Pelagibacteraceae;', 'Comamonadaceae;',\n",
       "       'Pasteurellaceae;', 'Pseudomonadaceae;', 'Mycoplasma',\n",
       "       'Idiomarinaceae;', 'Erwiniaceae;', 'Corynebacterium',\n",
       "       'Listeriaceae;', 'Clostridiaceae;', 'Brucellaceae;',\n",
       "       'Aeromonadaceae;', 'Rhizobiaceae;', 'Hexapoda;', 'Clavibacter',\n",
       "       'Colwelliaceae;', 'Chlamydia/Chlamydophila', 'Oscillatoriaceae;',\n",
       "       'Mycobacterium', 'Sulfolobaceae;', 'Pectobacteriaceae;',\n",
       "       'Enterococcaceae;', 'Halobacteria;', 'Vertebrata;', 'Hafniaceae;',\n",
       "       'Alcaligenaceae;', 'Actinoplanes', 'Bacteroidaceae;', '',\n",
       "       'Pseudoalteromonadaceae;', 'Xanthomonadaceae;', 'II.',\n",
       "       'Tsukamurella', 'Moraxellaceae;', 'Tannerellaceae;',\n",
       "       'Tetrasphaera', 'Flavobacteriaceae;', 'Kitasatospora',\n",
       "       'Brevibacterium', 'Oceanospirillaceae;', 'Trichormus',\n",
       "       'Halomonadaceae;', 'Cutibacterium', 'Prochlorococcus', 'Sinomonas',\n",
       "       'Thermoanaerobacterales', 'Nocardia', 'Bdellovibrionaceae;',\n",
       "       'Actinomyces', 'Rhodospirillaceae;', 'Methanobacteria;',\n",
       "       'Mycobacteroides', 'chlorophytes;', 'Mamiellales;',\n",
       "       'Ruminococcaceae;', 'Fusobacterium', 'Acetobacteraceae;',\n",
       "       'Leptospira', 'Nodularia', 'Shewanellaceae;', 'Sphingomonadaceae;',\n",
       "       'Spiroplasmataceae;', 'Streptomyces;', 'Thermaceae;'], dtype=object)"
      ]
     },
     "execution_count": 68,
     "metadata": {
      "tags": []
     },
     "output_type": "execute_result"
    }
   ],
   "source": [
    "# Create Negative Samples \n",
    "uniq_species = comb_dsets['species'].unique()\n",
    "uniq_species"
   ]
  },
  {
   "cell_type": "code",
   "execution_count": 117,
   "metadata": {
    "id": "Z0a0spp91rhq"
   },
   "outputs": [],
   "source": [
    "# Create Random Negative Sample (For now; placeholder method)\n",
    "import random\n",
    "\n",
    "neg_df = pd.DataFrame(columns=('phage', 'host', 'species'))\n",
    "\n",
    "for i in range(len(comb_dsets)):\n",
    "  sample = random.sample(list(uniq_species), 2)\n",
    "  if sample[0] == comb_dsets.iloc[i]['species']:\n",
    "    neg_species = sample[1]\n",
    "  else: \n",
    "    neg_species = sample[0]\n",
    "  neg_host = random.sample(comb_dsets.loc[comb_dsets['species'] == negative_species]['host'].tolist(), 1)[0]\n",
    "  neg_phage = comb_dsets.iloc[i]['phage']\n",
    "  neg_df.loc[len(neg_df)] = [neg_phage, neg_host, neg_species]"
   ]
  },
  {
   "cell_type": "code",
   "execution_count": 118,
   "metadata": {
    "colab": {
     "base_uri": "https://localhost:8080/",
     "height": 419
    },
    "id": "loEtuU-f3lQX",
    "outputId": "ed304554-c574-4483-9a8e-2ec9f774ecbf"
   },
   "outputs": [
    {
     "data": {
      "text/html": [
       "<div>\n",
       "<style scoped>\n",
       "    .dataframe tbody tr th:only-of-type {\n",
       "        vertical-align: middle;\n",
       "    }\n",
       "\n",
       "    .dataframe tbody tr th {\n",
       "        vertical-align: top;\n",
       "    }\n",
       "\n",
       "    .dataframe thead th {\n",
       "        text-align: right;\n",
       "    }\n",
       "</style>\n",
       "<table border=\"1\" class=\"dataframe\">\n",
       "  <thead>\n",
       "    <tr style=\"text-align: right;\">\n",
       "      <th></th>\n",
       "      <th>phage</th>\n",
       "      <th>host</th>\n",
       "      <th>species</th>\n",
       "    </tr>\n",
       "  </thead>\n",
       "  <tbody>\n",
       "    <tr>\n",
       "      <th>0</th>\n",
       "      <td>NC_026583</td>\n",
       "      <td>NZ_CP010341.1</td>\n",
       "      <td>Nocardia</td>\n",
       "    </tr>\n",
       "    <tr>\n",
       "      <th>1</th>\n",
       "      <td>NC_026584</td>\n",
       "      <td>NZ_CP010341.1</td>\n",
       "      <td>Pectobacteriaceae;</td>\n",
       "    </tr>\n",
       "    <tr>\n",
       "      <th>2</th>\n",
       "      <td>NC_026585</td>\n",
       "      <td>NZ_CP010341.1</td>\n",
       "      <td>Comamonadaceae;</td>\n",
       "    </tr>\n",
       "    <tr>\n",
       "      <th>3</th>\n",
       "      <td>NC_026588</td>\n",
       "      <td>NZ_CP010341.1</td>\n",
       "      <td>Nodularia</td>\n",
       "    </tr>\n",
       "    <tr>\n",
       "      <th>4</th>\n",
       "      <td>NC_026589</td>\n",
       "      <td>NZ_CP010341.1</td>\n",
       "      <td>Streptomyces</td>\n",
       "    </tr>\n",
       "    <tr>\n",
       "      <th>...</th>\n",
       "      <td>...</td>\n",
       "      <td>...</td>\n",
       "      <td>...</td>\n",
       "    </tr>\n",
       "    <tr>\n",
       "      <th>5596</th>\n",
       "      <td>NC_025451</td>\n",
       "      <td>NZ_CP010341.1</td>\n",
       "      <td>Thermoanaerobacterales</td>\n",
       "    </tr>\n",
       "    <tr>\n",
       "      <th>5597</th>\n",
       "      <td>JQ957925</td>\n",
       "      <td>NZ_CP010341.1</td>\n",
       "      <td>Spiroplasmataceae;</td>\n",
       "    </tr>\n",
       "    <tr>\n",
       "      <th>5598</th>\n",
       "      <td>JQ965702</td>\n",
       "      <td>NZ_CP010341.1</td>\n",
       "      <td>Rhodobacteraceae;</td>\n",
       "    </tr>\n",
       "    <tr>\n",
       "      <th>5599</th>\n",
       "      <td>JQ965701</td>\n",
       "      <td>NZ_CP010341.1</td>\n",
       "      <td>Microbacterium</td>\n",
       "    </tr>\n",
       "    <tr>\n",
       "      <th>5600</th>\n",
       "      <td>NC_047939</td>\n",
       "      <td>NZ_CP010341.1</td>\n",
       "      <td>Tetrasphaera</td>\n",
       "    </tr>\n",
       "  </tbody>\n",
       "</table>\n",
       "<p>5601 rows × 3 columns</p>\n",
       "</div>"
      ],
      "text/plain": [
       "          phage           host                 species\n",
       "0     NC_026583  NZ_CP010341.1                Nocardia\n",
       "1     NC_026584  NZ_CP010341.1      Pectobacteriaceae;\n",
       "2     NC_026585  NZ_CP010341.1         Comamonadaceae;\n",
       "3     NC_026588  NZ_CP010341.1               Nodularia\n",
       "4     NC_026589  NZ_CP010341.1            Streptomyces\n",
       "...         ...            ...                     ...\n",
       "5596  NC_025451  NZ_CP010341.1  Thermoanaerobacterales\n",
       "5597   JQ957925  NZ_CP010341.1      Spiroplasmataceae;\n",
       "5598   JQ965702  NZ_CP010341.1       Rhodobacteraceae;\n",
       "5599   JQ965701  NZ_CP010341.1          Microbacterium\n",
       "5600  NC_047939  NZ_CP010341.1            Tetrasphaera\n",
       "\n",
       "[5601 rows x 3 columns]"
      ]
     },
     "execution_count": 118,
     "metadata": {
      "tags": []
     },
     "output_type": "execute_result"
    }
   ],
   "source": [
    "neg_df"
   ]
  },
  {
   "cell_type": "code",
   "execution_count": 124,
   "metadata": {
    "id": "FdnAxnXI5_a-"
   },
   "outputs": [],
   "source": [
    "file_name = './neg_data.csv'\n",
    "neg_df.to_csv(file_name, sep=',', index=False)"
   ]
  },
  {
   "cell_type": "code",
   "execution_count": 130,
   "metadata": {
    "colab": {
     "base_uri": "https://localhost:8080/",
     "height": 419
    },
    "id": "NiGQ-tJq6uJy",
    "outputId": "e79dcd95-e8d2-4db2-cfa4-2a1deb1c67d9"
   },
   "outputs": [
    {
     "data": {
      "text/html": [
       "<div>\n",
       "<style scoped>\n",
       "    .dataframe tbody tr th:only-of-type {\n",
       "        vertical-align: middle;\n",
       "    }\n",
       "\n",
       "    .dataframe tbody tr th {\n",
       "        vertical-align: top;\n",
       "    }\n",
       "\n",
       "    .dataframe thead th {\n",
       "        text-align: right;\n",
       "    }\n",
       "</style>\n",
       "<table border=\"1\" class=\"dataframe\">\n",
       "  <thead>\n",
       "    <tr style=\"text-align: right;\">\n",
       "      <th></th>\n",
       "      <th>phage</th>\n",
       "      <th>host</th>\n",
       "      <th>species</th>\n",
       "    </tr>\n",
       "  </thead>\n",
       "  <tbody>\n",
       "    <tr>\n",
       "      <th>0</th>\n",
       "      <td>NC_026583</td>\n",
       "      <td>NZ_LN831039.1</td>\n",
       "      <td>Mycolicibacterium</td>\n",
       "    </tr>\n",
       "    <tr>\n",
       "      <th>1</th>\n",
       "      <td>NC_026584</td>\n",
       "      <td>NZ_LN831039.1</td>\n",
       "      <td>Mycolicibacterium</td>\n",
       "    </tr>\n",
       "    <tr>\n",
       "      <th>2</th>\n",
       "      <td>NC_026585</td>\n",
       "      <td>NZ_LN831039.1</td>\n",
       "      <td>Mycolicibacterium</td>\n",
       "    </tr>\n",
       "    <tr>\n",
       "      <th>3</th>\n",
       "      <td>NC_026588</td>\n",
       "      <td>NZ_LN831039.1</td>\n",
       "      <td>Mycolicibacterium</td>\n",
       "    </tr>\n",
       "    <tr>\n",
       "      <th>4</th>\n",
       "      <td>NC_026589</td>\n",
       "      <td>NZ_LN831039.1</td>\n",
       "      <td>Mycolicibacterium</td>\n",
       "    </tr>\n",
       "    <tr>\n",
       "      <th>...</th>\n",
       "      <td>...</td>\n",
       "      <td>...</td>\n",
       "      <td>...</td>\n",
       "    </tr>\n",
       "    <tr>\n",
       "      <th>5620</th>\n",
       "      <td>NC_025451</td>\n",
       "      <td>NZ_CWGL01000001.1</td>\n",
       "      <td>Yersiniaceae;</td>\n",
       "    </tr>\n",
       "    <tr>\n",
       "      <th>5621</th>\n",
       "      <td>JQ957925</td>\n",
       "      <td>NC_017168.1</td>\n",
       "      <td>Yersiniaceae;</td>\n",
       "    </tr>\n",
       "    <tr>\n",
       "      <th>5622</th>\n",
       "      <td>JQ965702</td>\n",
       "      <td>NC_017168.1</td>\n",
       "      <td>Yersiniaceae;</td>\n",
       "    </tr>\n",
       "    <tr>\n",
       "      <th>5623</th>\n",
       "      <td>JQ965701</td>\n",
       "      <td>NC_017168.1</td>\n",
       "      <td>Yersiniaceae;</td>\n",
       "    </tr>\n",
       "    <tr>\n",
       "      <th>5624</th>\n",
       "      <td>NC_047939</td>\n",
       "      <td>NC_017168.1</td>\n",
       "      <td>Yersiniaceae;</td>\n",
       "    </tr>\n",
       "  </tbody>\n",
       "</table>\n",
       "<p>5601 rows × 3 columns</p>\n",
       "</div>"
      ],
      "text/plain": [
       "          phage               host            species\n",
       "0     NC_026583      NZ_LN831039.1  Mycolicibacterium\n",
       "1     NC_026584      NZ_LN831039.1  Mycolicibacterium\n",
       "2     NC_026585      NZ_LN831039.1  Mycolicibacterium\n",
       "3     NC_026588      NZ_LN831039.1  Mycolicibacterium\n",
       "4     NC_026589      NZ_LN831039.1  Mycolicibacterium\n",
       "...         ...                ...                ...\n",
       "5620  NC_025451  NZ_CWGL01000001.1      Yersiniaceae;\n",
       "5621   JQ957925        NC_017168.1      Yersiniaceae;\n",
       "5622   JQ965702        NC_017168.1      Yersiniaceae;\n",
       "5623   JQ965701        NC_017168.1      Yersiniaceae;\n",
       "5624  NC_047939        NC_017168.1      Yersiniaceae;\n",
       "\n",
       "[5601 rows x 3 columns]"
      ]
     },
     "execution_count": 130,
     "metadata": {
      "tags": []
     },
     "output_type": "execute_result"
    }
   ],
   "source": [
    "pos_df = pd.read_csv(\"./data_with_species.csv\")\n",
    "pos_df"
   ]
  },
  {
   "cell_type": "code",
   "execution_count": 134,
   "metadata": {
    "id": "NfIsq3-n6hW0"
   },
   "outputs": [],
   "source": [
    "# combine dataset\n",
    "pos_df['relation'] = 1\n",
    "neg_df['relation'] = 0\n",
    "\n",
    "df = pd.concat([pos_df, neg_df])"
   ]
  },
  {
   "cell_type": "code",
   "execution_count": 135,
   "metadata": {
    "colab": {
     "base_uri": "https://localhost:8080/",
     "height": 419
    },
    "id": "c12hahB97JHi",
    "outputId": "3929e4ce-c3ae-4314-de01-748cda5ce0bf"
   },
   "outputs": [
    {
     "data": {
      "text/html": [
       "<div>\n",
       "<style scoped>\n",
       "    .dataframe tbody tr th:only-of-type {\n",
       "        vertical-align: middle;\n",
       "    }\n",
       "\n",
       "    .dataframe tbody tr th {\n",
       "        vertical-align: top;\n",
       "    }\n",
       "\n",
       "    .dataframe thead th {\n",
       "        text-align: right;\n",
       "    }\n",
       "</style>\n",
       "<table border=\"1\" class=\"dataframe\">\n",
       "  <thead>\n",
       "    <tr style=\"text-align: right;\">\n",
       "      <th></th>\n",
       "      <th>phage</th>\n",
       "      <th>host</th>\n",
       "      <th>species</th>\n",
       "      <th>relation</th>\n",
       "    </tr>\n",
       "  </thead>\n",
       "  <tbody>\n",
       "    <tr>\n",
       "      <th>0</th>\n",
       "      <td>NC_026583</td>\n",
       "      <td>NZ_LN831039.1</td>\n",
       "      <td>Mycolicibacterium</td>\n",
       "      <td>1</td>\n",
       "    </tr>\n",
       "    <tr>\n",
       "      <th>1</th>\n",
       "      <td>NC_026584</td>\n",
       "      <td>NZ_LN831039.1</td>\n",
       "      <td>Mycolicibacterium</td>\n",
       "      <td>1</td>\n",
       "    </tr>\n",
       "    <tr>\n",
       "      <th>2</th>\n",
       "      <td>NC_026585</td>\n",
       "      <td>NZ_LN831039.1</td>\n",
       "      <td>Mycolicibacterium</td>\n",
       "      <td>1</td>\n",
       "    </tr>\n",
       "    <tr>\n",
       "      <th>3</th>\n",
       "      <td>NC_026588</td>\n",
       "      <td>NZ_LN831039.1</td>\n",
       "      <td>Mycolicibacterium</td>\n",
       "      <td>1</td>\n",
       "    </tr>\n",
       "    <tr>\n",
       "      <th>4</th>\n",
       "      <td>NC_026589</td>\n",
       "      <td>NZ_LN831039.1</td>\n",
       "      <td>Mycolicibacterium</td>\n",
       "      <td>1</td>\n",
       "    </tr>\n",
       "    <tr>\n",
       "      <th>...</th>\n",
       "      <td>...</td>\n",
       "      <td>...</td>\n",
       "      <td>...</td>\n",
       "      <td>...</td>\n",
       "    </tr>\n",
       "    <tr>\n",
       "      <th>5596</th>\n",
       "      <td>NC_025451</td>\n",
       "      <td>NZ_CP010341.1</td>\n",
       "      <td>Thermoanaerobacterales</td>\n",
       "      <td>0</td>\n",
       "    </tr>\n",
       "    <tr>\n",
       "      <th>5597</th>\n",
       "      <td>JQ957925</td>\n",
       "      <td>NZ_CP010341.1</td>\n",
       "      <td>Spiroplasmataceae;</td>\n",
       "      <td>0</td>\n",
       "    </tr>\n",
       "    <tr>\n",
       "      <th>5598</th>\n",
       "      <td>JQ965702</td>\n",
       "      <td>NZ_CP010341.1</td>\n",
       "      <td>Rhodobacteraceae;</td>\n",
       "      <td>0</td>\n",
       "    </tr>\n",
       "    <tr>\n",
       "      <th>5599</th>\n",
       "      <td>JQ965701</td>\n",
       "      <td>NZ_CP010341.1</td>\n",
       "      <td>Microbacterium</td>\n",
       "      <td>0</td>\n",
       "    </tr>\n",
       "    <tr>\n",
       "      <th>5600</th>\n",
       "      <td>NC_047939</td>\n",
       "      <td>NZ_CP010341.1</td>\n",
       "      <td>Tetrasphaera</td>\n",
       "      <td>0</td>\n",
       "    </tr>\n",
       "  </tbody>\n",
       "</table>\n",
       "<p>11202 rows × 4 columns</p>\n",
       "</div>"
      ],
      "text/plain": [
       "          phage           host                 species  relation\n",
       "0     NC_026583  NZ_LN831039.1       Mycolicibacterium         1\n",
       "1     NC_026584  NZ_LN831039.1       Mycolicibacterium         1\n",
       "2     NC_026585  NZ_LN831039.1       Mycolicibacterium         1\n",
       "3     NC_026588  NZ_LN831039.1       Mycolicibacterium         1\n",
       "4     NC_026589  NZ_LN831039.1       Mycolicibacterium         1\n",
       "...         ...            ...                     ...       ...\n",
       "5596  NC_025451  NZ_CP010341.1  Thermoanaerobacterales         0\n",
       "5597   JQ957925  NZ_CP010341.1      Spiroplasmataceae;         0\n",
       "5598   JQ965702  NZ_CP010341.1       Rhodobacteraceae;         0\n",
       "5599   JQ965701  NZ_CP010341.1          Microbacterium         0\n",
       "5600  NC_047939  NZ_CP010341.1            Tetrasphaera         0\n",
       "\n",
       "[11202 rows x 4 columns]"
      ]
     },
     "execution_count": 135,
     "metadata": {
      "tags": []
     },
     "output_type": "execute_result"
    }
   ],
   "source": [
    "df"
   ]
  },
  {
   "cell_type": "code",
   "execution_count": 137,
   "metadata": {
    "id": "FHJi9zh57NXi"
   },
   "outputs": [],
   "source": [
    "file_name = './full_data.csv'\n",
    "neg_df.to_csv(file_name, sep=',', index=False)"
   ]
  }
 ],
 "metadata": {
  "colab": {
   "name": "ProjectX2020.ipynb",
   "provenance": []
  },
  "kernelspec": {
   "display_name": "Python 3",
   "language": "python",
   "name": "python3"
  },
  "language_info": {
   "codemirror_mode": {
    "name": "ipython",
    "version": 3
   },
   "file_extension": ".py",
   "mimetype": "text/x-python",
   "name": "python",
   "nbconvert_exporter": "python",
   "pygments_lexer": "ipython3",
   "version": "3.7.6"
  }
 },
 "nbformat": 4,
 "nbformat_minor": 4
}
