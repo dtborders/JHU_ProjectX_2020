{
 "cells": [
  {
   "cell_type": "code",
   "execution_count": 2,
   "metadata": {},
   "outputs": [],
   "source": [
    "from Bio import SeqIO, Entrez\n",
    "import pandas as pd\n",
    "\n",
    "Entrez.email = \"dtborders@gmail.com\""
   ]
  },
  {
   "cell_type": "markdown",
   "metadata": {},
   "source": [
    "# Combined Dataset"
   ]
  },
  {
   "cell_type": "code",
   "execution_count": 16,
   "metadata": {},
   "outputs": [],
   "source": [
    "comb_dsets = pd.read_csv(\"../data/combined.csv\")"
   ]
  },
  {
   "cell_type": "code",
   "execution_count": 17,
   "metadata": {},
   "outputs": [
    {
     "data": {
      "text/html": [
       "<div>\n",
       "<style scoped>\n",
       "    .dataframe tbody tr th:only-of-type {\n",
       "        vertical-align: middle;\n",
       "    }\n",
       "\n",
       "    .dataframe tbody tr th {\n",
       "        vertical-align: top;\n",
       "    }\n",
       "\n",
       "    .dataframe thead th {\n",
       "        text-align: right;\n",
       "    }\n",
       "</style>\n",
       "<table border=\"1\" class=\"dataframe\">\n",
       "  <thead>\n",
       "    <tr style=\"text-align: right;\">\n",
       "      <th></th>\n",
       "      <th>phage</th>\n",
       "      <th>host</th>\n",
       "    </tr>\n",
       "  </thead>\n",
       "  <tbody>\n",
       "    <tr>\n",
       "      <th>0</th>\n",
       "      <td>NC_026583</td>\n",
       "      <td>NZ_LN831039.1</td>\n",
       "    </tr>\n",
       "    <tr>\n",
       "      <th>1</th>\n",
       "      <td>NC_026584</td>\n",
       "      <td>NZ_LN831039.1</td>\n",
       "    </tr>\n",
       "    <tr>\n",
       "      <th>2</th>\n",
       "      <td>NC_026585</td>\n",
       "      <td>NZ_LN831039.1</td>\n",
       "    </tr>\n",
       "    <tr>\n",
       "      <th>3</th>\n",
       "      <td>NC_026588</td>\n",
       "      <td>NZ_LN831039.1</td>\n",
       "    </tr>\n",
       "    <tr>\n",
       "      <th>4</th>\n",
       "      <td>NC_026589</td>\n",
       "      <td>NZ_LN831039.1</td>\n",
       "    </tr>\n",
       "    <tr>\n",
       "      <th>...</th>\n",
       "      <td>...</td>\n",
       "      <td>...</td>\n",
       "    </tr>\n",
       "    <tr>\n",
       "      <th>5621</th>\n",
       "      <td>JQ957925</td>\n",
       "      <td>NC_017168.1</td>\n",
       "    </tr>\n",
       "    <tr>\n",
       "      <th>5622</th>\n",
       "      <td>JQ965702</td>\n",
       "      <td>NC_017168.1</td>\n",
       "    </tr>\n",
       "    <tr>\n",
       "      <th>5623</th>\n",
       "      <td>JQ965701</td>\n",
       "      <td>NC_017168.1</td>\n",
       "    </tr>\n",
       "    <tr>\n",
       "      <th>5624</th>\n",
       "      <td>NC_047939</td>\n",
       "      <td>NC_017168.1</td>\n",
       "    </tr>\n",
       "    <tr>\n",
       "      <th>5625</th>\n",
       "      <td>NC_047940</td>\n",
       "      <td>NC_017168.1</td>\n",
       "    </tr>\n",
       "  </tbody>\n",
       "</table>\n",
       "<p>5626 rows × 2 columns</p>\n",
       "</div>"
      ],
      "text/plain": [
       "          phage           host\n",
       "0     NC_026583  NZ_LN831039.1\n",
       "1     NC_026584  NZ_LN831039.1\n",
       "2     NC_026585  NZ_LN831039.1\n",
       "3     NC_026588  NZ_LN831039.1\n",
       "4     NC_026589  NZ_LN831039.1\n",
       "...         ...            ...\n",
       "5621   JQ957925    NC_017168.1\n",
       "5622   JQ965702    NC_017168.1\n",
       "5623   JQ965701    NC_017168.1\n",
       "5624  NC_047939    NC_017168.1\n",
       "5625  NC_047940    NC_017168.1\n",
       "\n",
       "[5626 rows x 2 columns]"
      ]
     },
     "execution_count": 17,
     "metadata": {},
     "output_type": "execute_result"
    }
   ],
   "source": [
    "comb_dsets"
   ]
  },
  {
   "cell_type": "code",
   "execution_count": 18,
   "metadata": {},
   "outputs": [
    {
     "name": "stdout",
     "output_type": "stream",
     "text": [
      "num unique phages =  5524\n",
      "num unique hosts  =  405\n"
     ]
    }
   ],
   "source": [
    "print(\"num unique phages = \", len(list(set(comb_dsets['phage']))))\n",
    "print(\"num unique hosts  = \", len(list(set(comb_dsets['host']))))"
   ]
  },
  {
   "cell_type": "markdown",
   "metadata": {},
   "source": [
    "# Example Phage"
   ]
  },
  {
   "cell_type": "code",
   "execution_count": 19,
   "metadata": {},
   "outputs": [],
   "source": [
    "handle = Entrez.efetch(db=\"nuccore\", id=\"MH834611\", rettype=\"gb\", retmode=\"xml\")\n",
    "res = Entrez.read(handle)\n",
    "handle.close()"
   ]
  },
  {
   "cell_type": "markdown",
   "metadata": {},
   "source": [
    "### Whole Genome"
   ]
  },
  {
   "cell_type": "code",
   "execution_count": 20,
   "metadata": {},
   "outputs": [
    {
     "name": "stdout",
     "output_type": "stream",
     "text": [
      "genome length =  41165\n",
      "genome letters (first 1000) =  gggttttacccaccgccgcaggatagagctttttgatcagggaggttccgatgccaggtccggcagcgaggcccgccctccaggttgtccgcgaaggcaaccccgggaagcgcccgatccctgagcaggttgttgttccgccggccgacttcgacgaaccgaagtgggcggacgagttccccgtcgggcaggtcgggcggaagccgctgaagcctgccgcgacggacgccggcggcttcgaagagttccagaagctcctggctacctacgaatgggaccttgaccggtgggagcggaagaaaaccgcagcggacgcctcgaagttctgccggaagcgggccgcagaggaatgggcccgcgtcgttccggtcctcaagcattccgtcgggctgggcaacaccgattacttcaccgtcgtggacctctgcatctgtattgcccgccttgagtggtgtgagcggcagatcagcaaggaagggctcatcgtcgaggggcagcgcggcccctgccgtaaccctttgacgactgtggccgcggcttaccgcacccaattcaagacctacatccgcgagcttggcttgtctccttctgcccggacgggtgtcccgtcccggaaggacgacgatgaagacgacccgttcgattagggacactttcgctgcgctgccggcaccttacgaggcgttgatcgagctcggcgtcacgcatgaccagatcatggaggcgctcgaccggacgccgctggtccgggcctgccaggcggccgagcacccgggggcatggttcgacgtcgcccgggcccggaaagcgctgaaggcgttgggagcgttcaagcacaccaagggccgatgggccggcgtgccgatgcgcctgggcgaaggcttggactcgtggcaggtggtgtgggtcctcgccccggtgttcggctgggtgtaccacgacgccgaaatcgacgcgattgtgcgggtcatccgtaccgtctggatcgagattccgcgta\n"
     ]
    }
   ],
   "source": [
    "print(\"genome length = \", len(res[0]['GBSeq_sequence']))\n",
    "print(\"genome letters (first 1000) = \", res[0]['GBSeq_sequence'][0:1000])"
   ]
  },
  {
   "cell_type": "markdown",
   "metadata": {},
   "source": [
    "### Genes"
   ]
  },
  {
   "cell_type": "code",
   "execution_count": 21,
   "metadata": {},
   "outputs": [
    {
     "name": "stdout",
     "output_type": "stream",
     "text": [
      "gene 0: 51..647\n",
      "gene 1: 625..2373\n",
      "gene 2: 2383..3747\n",
      "gene 3: 3747..4946\n",
      "gene 4: 5037..5534\n",
      "gene 5: 5556..6539\n",
      "gene 6: 6550..6930\n",
      "gene 7: 6990..7175\n",
      "gene 8: 7175..7768\n",
      "gene 9: 7765..8163\n",
      "gene 10: 8160..8543\n",
      "gene 11: 8540..8953\n",
      "gene 12: 8998..9183\n",
      "gene 13: 9176..9691\n",
      "gene 14: 9781..10673\n",
      "gene 15: 9781..10317\n",
      "gene 16: complement(10659..10847)\n",
      "gene 17: 10892..14788\n",
      "gene 18: 14788..15615\n",
      "gene 19: 15628..16929\n",
      "gene 20: 16939..17895\n",
      "gene 21: 17895..18551\n",
      "gene 22: 18544..18966\n",
      "gene 23: 18963..19364\n",
      "gene 24: 19373..20113\n",
      "gene 25: 20113..20415\n",
      "gene 26: 20437..20742\n",
      "gene 27: 20739..21113\n",
      "gene 28: 21117..23393\n",
      "gene 29: 23460..23552\n",
      "gene 30: 23758..24123\n",
      "gene 31: 24385..24591\n",
      "gene 32: 24588..24899\n",
      "gene 33: 24892..26034\n",
      "gene 34: complement(26115..26405)\n",
      "gene 35: complement(26751..27008)\n",
      "gene 36: 27149..27403\n",
      "gene 37: 27406..27633\n",
      "gene 38: 27718..28086\n",
      "gene 39: 28083..28379\n",
      "gene 40: 28379..28762\n",
      "gene 41: 28759..29007\n",
      "gene 42: 29004..29810\n",
      "gene 43: 29832..30680\n",
      "gene 44: 30685..30837\n",
      "gene 45: 31028..31414\n",
      "gene 46: 31418..31828\n",
      "gene 47: 31825..32925\n",
      "gene 48: 32922..33212\n",
      "gene 49: 33209..33589\n",
      "gene 50: 33586..33789\n",
      "gene 51: 33786..34010\n",
      "gene 52: 34007..34147\n",
      "gene 53: 34160..36673\n",
      "gene 54: 36673..37266\n",
      "gene 55: 37263..37703\n",
      "gene 56: 37687..38100\n",
      "gene 57: 38097..38216\n",
      "gene 58: 38213..38605\n",
      "gene 59: 38598..39254\n",
      "gene 60: 39257..39949\n",
      "gene 61: 40109..40186\n",
      "gene 62: 40358..40747\n",
      "gene 63: 40750..41094\n"
     ]
    }
   ],
   "source": [
    "genes = [foo for foo in res[0]['GBSeq_feature-table'] if foo['GBFeature_key']=='gene']\n",
    "for ii, gene in enumerate(genes):\n",
    "    print(\"gene {}: {}\".format(ii, gene['GBFeature_location']))"
   ]
  },
  {
   "cell_type": "code",
   "execution_count": 24,
   "metadata": {},
   "outputs": [
    {
     "data": {
      "text/plain": [
       "'Viruses; Duplodnaviria; Heunggongvirae; Uroviricota; Caudoviricetes; Caudovirales; Siphoviridae; Bridgettevirus; Arthrobacter virus Eileen'"
      ]
     },
     "execution_count": 24,
     "metadata": {},
     "output_type": "execute_result"
    }
   ],
   "source": [
    "res[0]['GBSeq_taxonomy']"
   ]
  },
  {
   "cell_type": "markdown",
   "metadata": {},
   "source": [
    "# Example Bacteria"
   ]
  },
  {
   "cell_type": "code",
   "execution_count": 25,
   "metadata": {},
   "outputs": [],
   "source": [
    "handle = Entrez.efetch(db=\"nuccore\", id=\"NZ_LN831039\", rettype=\"fasta\", retmode=\"xml\")\n",
    "sequence = Entrez.read(handle)\n",
    "handle.close()\n",
    "handle2 = Entrez.efetch(db=\"nuccore\", id=\"NZ_LN831039\", rettyep='gb', retmode=\"xml\")\n",
    "res = Entrez.read(handle2)\n",
    "handle2.close()"
   ]
  },
  {
   "cell_type": "code",
   "execution_count": 27,
   "metadata": {},
   "outputs": [
    {
     "data": {
      "text/plain": [
       "'Bacteria; Actinobacteria; Corynebacteriales; Mycobacteriaceae; Mycolicibacterium'"
      ]
     },
     "execution_count": 27,
     "metadata": {},
     "output_type": "execute_result"
    }
   ],
   "source": [
    "res[0]['GBSeq_taxonomy']"
   ]
  },
  {
   "cell_type": "code",
   "execution_count": 10,
   "metadata": {},
   "outputs": [
    {
     "ename": "NameError",
     "evalue": "name 'outstr' is not defined",
     "output_type": "error",
     "traceback": [
      "\u001b[0;31m---------------------------------------------------------------------------\u001b[0m",
      "\u001b[0;31mNameError\u001b[0m                                 Traceback (most recent call last)",
      "\u001b[0;32m<ipython-input-10-260d422e945e>\u001b[0m in \u001b[0;36m<module>\u001b[0;34m()\u001b[0m\n\u001b[0;32m----> 1\u001b[0;31m \u001b[0moutstr\u001b[0m\u001b[0;34m\u001b[0m\u001b[0;34m\u001b[0m\u001b[0m\n\u001b[0m",
      "\u001b[0;31mNameError\u001b[0m: name 'outstr' is not defined"
     ]
    }
   ],
   "source": [
    "res[0][]"
   ]
  },
  {
   "cell_type": "code",
   "execution_count": null,
   "metadata": {
    "scrolled": true
   },
   "outputs": [],
   "source": [
    "print(\"genome length = \", res[0]['GBSeq_length'], len(sequence[0]['TSeq_sequence']))\n",
    "print(\"genome letters (first 1000) = \", sequence[0]['TSeq_sequence'][0:1000])"
   ]
  },
  {
   "cell_type": "markdown",
   "metadata": {},
   "source": [
    "TODO: Get gene locations"
   ]
  },
  {
   "cell_type": "markdown",
   "metadata": {},
   "source": [
    "# bacteria species/taxonomy (sally)"
   ]
  },
  {
   "cell_type": "code",
   "execution_count": 3,
   "metadata": {},
   "outputs": [
    {
     "name": "stdout",
     "output_type": "stream",
     "text": [
      "Bacteria; Actinobacteria; Corynebacteriales; Mycobacteriaceae; Mycolicibacterium\n"
     ]
    }
   ],
   "source": [
    "handle2 = Entrez.efetch(db=\"nuccore\", id=\"NZ_LN831039\", rettyep='gb', retmode=\"xml\")\n",
    "res = Entrez.read(handle2)\n",
    "handle2.close()\n",
    "print(res[0]['GBSeq_taxonomy'])"
   ]
  },
  {
   "cell_type": "code",
   "execution_count": null,
   "metadata": {},
   "outputs": [],
   "source": []
  },
  {
   "cell_type": "code",
   "execution_count": null,
   "metadata": {},
   "outputs": [],
   "source": []
  }
 ],
 "metadata": {
  "kernelspec": {
   "display_name": "Python 3",
   "language": "python",
   "name": "python3"
  },
  "language_info": {
   "codemirror_mode": {
    "name": "ipython",
    "version": 3
   },
   "file_extension": ".py",
   "mimetype": "text/x-python",
   "name": "python",
   "nbconvert_exporter": "python",
   "pygments_lexer": "ipython3",
   "version": "3.6.9"
  }
 },
 "nbformat": 4,
 "nbformat_minor": 2
}
